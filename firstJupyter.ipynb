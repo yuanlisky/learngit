{
 "cells": [
  {
   "cell_type": "markdown",
   "metadata": {},
   "source": [
    "## test my jupyter\n",
    "\n",
    "----\n",
    "\n",
    "\n",
    "[learngitFile](learngit.txt)\n",
    "\n",
    "[如何插入代码](#1)\n",
    "\n",
    "----\n",
    "\n",
    "also see this in [nbviewer](http://nbviewer.jupyter.org/github/yuanlisky/learngit/blob/master/firstJupyter.ipynb)\n",
    "\n",
    "\n",
    "<span id=\"1\">插入python代码</span>\n",
    "```python\n",
    "s = \"Hello,I'm YuanLi !\"\n",
    "print(s)\n",
    "```\n"
   ]
  }
 ],
 "metadata": {
  "anaconda-cloud": {},
  "kernelspec": {
   "display_name": "Python [conda root]",
   "language": "python",
   "name": "conda-root-py"
  },
  "language_info": {
   "codemirror_mode": {
    "name": "ipython",
    "version": 3
   },
   "file_extension": ".py",
   "mimetype": "text/x-python",
   "name": "python",
   "nbconvert_exporter": "python",
   "pygments_lexer": "ipython3",
   "version": "3.5.2"
  }
 },
 "nbformat": 4,
 "nbformat_minor": 1
}
